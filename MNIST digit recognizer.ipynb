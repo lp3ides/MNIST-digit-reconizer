{
 "cells": [
  {
   "cell_type": "code",
   "execution_count": 1,
   "metadata": {
    "collapsed": false
   },
   "outputs": [],
   "source": [
    "# import necessary modules\n",
    "import tensorflow as tf\n",
    "# %pylab inline\n",
    "%matplotlib inline\n",
    "import numpy as np\n",
    "import pandas as pd\n",
    "import matplotlib.pyplot as plt\n",
    "from scipy import stats\n",
    "from time import time\n",
    "\n",
    "# prepare the data, using one-hot representation for labels\n",
    "def prepare_data():\n",
    "    data = pd.read_csv('train.csv')\n",
    "    data = np.array(data)\n",
    "    X = data[:,1:] / 255 # division by 255 is to normalize pixel intensities\n",
    "    y = data[:,0]\n",
    "    # transform y to be one-hot\n",
    "    n = len(y)\n",
    "    y_one_hot = np.zeros((n,10),dtype=int)\n",
    "    for i in range(n):\n",
    "        y_one_hot[i,int(y[i])] = 1\n",
    "\n",
    "    # split into train and test datasets\n",
    "    split = n//3*2\n",
    "    X_train = X[:split,:]\n",
    "    y_train = y_one_hot[:split,:]\n",
    "    \n",
    "    X_validate = X[split:,:]\n",
    "    y_validate = y_one_hot[split:,:]\n",
    "    train = [X_train,y_train]\n",
    "    validate = [X_validate,y_validate]\n",
    "    return [train,validate]\n",
    "\n",
    "train,validate = prepare_data()"
   ]
  },
  {
   "cell_type": "code",
   "execution_count": 2,
   "metadata": {
    "collapsed": false
   },
   "outputs": [
    {
     "data": {
      "image/png": "[encoded data removed]",
      "text/plain": [
       "<matplotlib.figure.Figure at 0x104875a90>"
      ]
     },
     "metadata": {},
     "output_type": "display_data"
    }
   ],
   "source": [
    "# test interpretation of data\n",
    "test = train[0][10,:].reshape(28,28)\n",
    "fig = plt.figure(figsize=(8, 8))\n",
    "for i in range(1):\n",
    "    ax = fig.add_subplot(2, 5, 1 + i, xticks=[], yticks=[])\n",
    "    ax.imshow(test, cmap=plt.cm.binary)"
   ]
  },
  {
   "cell_type": "code",
   "execution_count": 3,
   "metadata": {
    "collapsed": false
   },
   "outputs": [],
   "source": [
    "# some functions to streamline description of tensor graph\n",
    "\n",
    "def weight_variable(shape):\n",
    "  initial = tf.truncated_normal(shape, stddev=0.1)\n",
    "  return tf.Variable(initial)\n",
    "\n",
    "def bias_variable(shape):\n",
    "  initial = tf.constant(0.1, shape=shape)\n",
    "  return tf.Variable(initial)\n",
    "def conv2d(x, W):\n",
    "  return tf.nn.conv2d(x, W, strides=[1, 1, 1, 1], padding='VALID')\n",
    "\n",
    "def max_pool_2x2(x):\n",
    "  return tf.nn.max_pool(x, ksize=[1, 2, 2, 1],\n",
    "                        strides=[1, 2, 2, 1], padding='VALID')\n",
    "\n",
    "# describe the flow of the graph\n",
    "graph = tf.Graph()\n",
    "with graph.as_default():\n",
    "    x = tf.placeholder(tf.float32, shape=[None, 784])\n",
    "    y_ = tf.placeholder(tf.float32, shape=[None, 10])\n",
    "    x_image = tf.reshape(x, [-1,28,28,1])\n",
    "    \n",
    "    # first convo\n",
    "    W_conv1 = weight_variable([5, 5, 1, 32])\n",
    "    b_conv1 = bias_variable([32])\n",
    "    h_conv1 = tf.nn.relu(conv2d(x_image, W_conv1) + b_conv1)\n",
    "    h_pool1 = max_pool_2x2(h_conv1)\n",
    "    \n",
    "    # second convo\n",
    "    W_conv2 = weight_variable([5, 5, 32, 64])\n",
    "    b_conv2 = bias_variable([64])\n",
    "    h_conv2 = tf.nn.relu(conv2d(h_pool1, W_conv2) + b_conv2)\n",
    "    h_pool2 = max_pool_2x2(h_conv2) # shape [50,4,4,64]\n",
    "    \n",
    "    # first fully connected layer\n",
    "    W_fc1 = weight_variable([4 * 4 * 64, 30])\n",
    "    b_fc1 = bias_variable([30])\n",
    "    h_pool2_flat = tf.reshape(h_pool2, [-1, 4*4*64]) # shape [50,4*4*64] like a flattened image\n",
    "    h_fc1 = tf.nn.relu(tf.matmul(h_pool2_flat, W_fc1) + b_fc1)\n",
    "    \n",
    "    # dropout\n",
    "    keep_prob = tf.placeholder(tf.float32)\n",
    "    h_fc1_drop = tf.nn.dropout(h_fc1, keep_prob)\n",
    "    \n",
    "    # second and final fully connected layer\n",
    "    W_fc2 = weight_variable([30, 10])\n",
    "    b_fc2 = bias_variable([10])\n",
    "    y_conv=tf.nn.softmax(tf.matmul(h_fc1_drop, W_fc2) + b_fc2)\n",
    "    \n",
    "    # cost function\n",
    "    cross_entropy = tf.reduce_mean(-tf.reduce_sum(y_ * tf.log(y_conv), reduction_indices=[1]))\n",
    "    \n",
    "    # optimization method\n",
    "    train_step = tf.train.AdamOptimizer(1e-4).minimize(cross_entropy)\n",
    "    \n",
    "    # validation\n",
    "    prediction = tf.argmax(y_conv,1)\n",
    "    correct_prediction = tf.equal(tf.argmax(y_conv,1), tf.argmax(y_,1))\n",
    "    accuracy = tf.reduce_mean(tf.cast(correct_prediction, tf.float32))\n",
    "    \n",
    "    init = tf.global_variables_initializer()\n",
    "    \n",
    "    saver = tf.train.Saver()"
   ]
  },
  {
   "cell_type": "code",
   "execution_count": 4,
   "metadata": {
    "collapsed": false
   },
   "outputs": [
    {
     "name": "stdout",
     "output_type": "stream",
     "text": [
      "step 0, training accuracy 0.699999988079071, test accuracy 0.9356428384780884\n",
      "Model saved in file: model_relu.ckpt\n",
      "step 1, training accuracy 0.800000011920929, test accuracy 0.9567142724990845\n",
      "Model saved in file: model_relu.ckpt\n",
      "step 2, training accuracy 0.8999999761581421, test accuracy 0.9649999737739563\n",
      "Model saved in file: model_relu.ckpt\n",
      "step 3, training accuracy 0.8999999761581421, test accuracy 0.9679285883903503\n",
      "Model saved in file: model_relu.ckpt\n",
      "step 4, training accuracy 1.0, test accuracy 0.9720714092254639\n",
      "Model saved in file: model_relu.ckpt\n",
      "step 5, training accuracy 1.0, test accuracy 0.9727857112884521\n",
      "Model saved in file: model_relu.ckpt\n",
      "step 6, training accuracy 0.8999999761581421, test accuracy 0.9734285473823547\n",
      "Model saved in file: model_relu.ckpt\n",
      "step 7, training accuracy 1.0, test accuracy 0.9756428599357605\n",
      "Model saved in file: model_relu.ckpt\n",
      "step 8, training accuracy 1.0, test accuracy 0.9779285788536072\n",
      "Model saved in file: model_relu.ckpt\n",
      "step 9, training accuracy 1.0, test accuracy 0.9798571467399597\n",
      "Model saved in file: model_relu.ckpt\n",
      "step 10, training accuracy 1.0, test accuracy 0.9800714254379272\n",
      "Model saved in file: model_relu.ckpt\n",
      "step 11, training accuracy 1.0, test accuracy 0.9819285869598389\n",
      "Model saved in file: model_relu.ckpt\n",
      "step 12, training accuracy 1.0, test accuracy 0.9817857146263123\n"
     ]
    }
   ],
   "source": [
    "with tf.Session(graph=graph) as session:\n",
    "    init.run()\n",
    "    # saver.restore(session, \"model_relu.ckpt\")\n",
    "    test_accuracy_prev = 0\n",
    "    iterations = 100\n",
    "    batch_size = 10\n",
    "    n = len(train[0])\n",
    "    mini_batches = [[train[0][k*batch_size:(k+1)*batch_size,:],\n",
    "                     train[1][k*batch_size:(k+1)*batch_size,:]] \n",
    "                     for k in range(0,n//batch_size)]\n",
    "    for i in range(iterations):\n",
    "        time_0 = time()\n",
    "        for mini_batch in mini_batches:\n",
    "            train_step.run(feed_dict = {x:mini_batch[0],y_:mini_batch[1],keep_prob: 0.5})\n",
    "        train_accuracy = accuracy.eval(feed_dict={x:mini_batch[0], y_: mini_batch[1], keep_prob: 1.0})\n",
    "        test_accuracy = accuracy.eval(feed_dict={x: validate[0], y_: validate[1], keep_prob: 1.0})\n",
    "        print(\"step {0}, training accuracy {1}, test accuracy {2}\".format(i, train_accuracy, test_accuracy))\n",
    "        if test_accuracy >= test_accuracy_prev:\n",
    "            test_accuracy_prev = test_accuracy\n",
    "            save_path = saver.save(session, \"model_relu.ckpt\")\n",
    "            print(\"Model saved in file: {0}\".format(save_path))\n",
    "        else: break"
   ]
  },
  {
   "cell_type": "code",
   "execution_count": null,
   "metadata": {
    "collapsed": true
   },
   "outputs": [],
   "source": []
  }
 ],
 "metadata": {
  "anaconda-cloud": {},
  "kernelspec": {
   "display_name": "Python [tensorflow]",
   "language": "python",
   "name": "Python [tensorflow]"
  },
  "language_info": {
   "codemirror_mode": {
    "name": "ipython",
    "version": 3
   },
   "file_extension": ".py",
   "mimetype": "text/x-python",
   "name": "python",
   "nbconvert_exporter": "python",
   "pygments_lexer": "ipython3",
   "version": "3.5.2"
  }
 },
 "nbformat": 4,
 "nbformat_minor": 0
}
